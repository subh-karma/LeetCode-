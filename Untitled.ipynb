{
 "cells": [
  {
   "cell_type": "code",
   "execution_count": 2,
   "id": "f300f829",
   "metadata": {},
   "outputs": [
    {
     "name": "stdout",
     "output_type": "stream",
     "text": [
      "The average is  70.0\n"
     ]
    }
   ],
   "source": [
    "score=[75,72,68,65,67,73]\n",
    "sub_val=[]\n",
    "avg=sum(score) / len(score)\n",
    "print (\"The average is \",avg)\n",
    "for i in score:\n",
    "    i=i-avg\n",
    "    sub_val.append(i)"
   ]
  },
  {
   "cell_type": "code",
   "execution_count": 3,
   "id": "64f28723",
   "metadata": {},
   "outputs": [
    {
     "data": {
      "text/plain": [
       "[5.0, 2.0, -2.0, -5.0, -3.0, 3.0]"
      ]
     },
     "execution_count": 3,
     "metadata": {},
     "output_type": "execute_result"
    }
   ],
   "source": [
    "sub_val"
   ]
  },
  {
   "cell_type": "code",
   "execution_count": 4,
   "id": "bc53c75f",
   "metadata": {},
   "outputs": [],
   "source": [
    "import statistics\n",
    "mean = sum(sub_val) / len(sub_val)\n",
    "\n",
    "# Median\n",
    "median = statistics.median(sub_val)\n",
    "\n",
    "# Mode\n",
    "mode = statistics.mode(sub_val)"
   ]
  },
  {
   "cell_type": "code",
   "execution_count": 7,
   "id": "a417bd3d",
   "metadata": {},
   "outputs": [
    {
     "data": {
      "text/plain": [
       "5.0"
      ]
     },
     "execution_count": 7,
     "metadata": {},
     "output_type": "execute_result"
    }
   ],
   "source": [
    "mode"
   ]
  },
  {
   "cell_type": "code",
   "execution_count": null,
   "id": "bbe835ff",
   "metadata": {},
   "outputs": [],
   "source": []
  }
 ],
 "metadata": {
  "kernelspec": {
   "display_name": "Python 3 (ipykernel)",
   "language": "python",
   "name": "python3"
  },
  "language_info": {
   "codemirror_mode": {
    "name": "ipython",
    "version": 3
   },
   "file_extension": ".py",
   "mimetype": "text/x-python",
   "name": "python",
   "nbconvert_exporter": "python",
   "pygments_lexer": "ipython3",
   "version": "3.10.9"
  }
 },
 "nbformat": 4,
 "nbformat_minor": 5
}
