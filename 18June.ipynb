{
 "cells": [
  {
   "cell_type": "markdown",
   "id": "7c2bd20f",
   "metadata": {},
   "source": [
    "Python Program to Check Prime Number\n"
   ]
  },
  {
   "cell_type": "code",
   "execution_count": 4,
   "id": "4aa89633",
   "metadata": {},
   "outputs": [
    {
     "name": "stdout",
     "output_type": "stream",
     "text": [
      "-1\n",
      "True\n"
     ]
    }
   ],
   "source": [
    "n=int(input())\n",
    "if n%n==0 and n%1==0:\n",
    "    print (\"True\")\n",
    "else:\n",
    "    print(\"False\")"
   ]
  },
  {
   "cell_type": "markdown",
   "id": "fc90792b",
   "metadata": {},
   "source": [
    "Python Program for n-th Fibonacci number Using recursion\n"
   ]
  },
  {
   "cell_type": "markdown",
   "id": "c1167ae9",
   "metadata": {},
   "source": [
    "Fn = Fn-1 + Fn-2"
   ]
  },
  {
   "cell_type": "code",
   "execution_count": null,
   "id": "62013c70",
   "metadata": {},
   "outputs": [],
   "source": [
    "#n=int(input())\n",
    "def fab(n):\n",
    "    if n<=0:\n",
    "        print(\"Invalid input\")\n",
    "    elif n==1:\n",
    "        return 0\n",
    "    elif n==2:\n",
    "        return 1\n",
    "    else:\n",
    "        return fab(n-1)+fab(n-2)\n",
    "print(fab(10))\n",
    "    "
   ]
  },
  {
   "cell_type": "code",
   "execution_count": null,
   "id": "81b30cac",
   "metadata": {},
   "outputs": [],
   "source": [
    "fab(10)"
   ]
  },
  {
   "cell_type": "code",
   "execution_count": 3,
   "id": "fec22419",
   "metadata": {},
   "outputs": [],
   "source": [
    "def Fibonacci(n):\n",
    "    if n<= 0:\n",
    "        print(\"Incorrect input\")\n",
    "    # First Fibonacci number is 0\n",
    "    elif n == 1:\n",
    "        return 0\n",
    "    # Second Fibonacci number is 1\n",
    "    elif n == 2:\n",
    "        return 1\n",
    "    else:\n",
    "        return Fibonacci(n-1)+Fibonacci(n-2)"
   ]
  },
  {
   "cell_type": "code",
   "execution_count": 4,
   "id": "9f65abe8",
   "metadata": {},
   "outputs": [
    {
     "data": {
      "text/plain": [
       "34"
      ]
     },
     "execution_count": 4,
     "metadata": {},
     "output_type": "execute_result"
    }
   ],
   "source": [
    "Fibonacci(10)"
   ]
  },
  {
   "cell_type": "code",
   "execution_count": 1,
   "id": "0accbfa7",
   "metadata": {},
   "outputs": [
    {
     "name": "stdout",
     "output_type": "stream",
     "text": [
      "34\n"
     ]
    }
   ],
   "source": [
    "#n=int(input())\n",
    "def fab(n):\n",
    "    if n<=0:\n",
    "        print(\"Invalid input\")\n",
    "    elif n==1:\n",
    "        return 0\n",
    "    elif n==2:\n",
    "        return 1\n",
    "    else:\n",
    "        return fab(n-1)+fab(n-2)\n",
    "print(fab(10))"
   ]
  },
  {
   "cell_type": "code",
   "execution_count": null,
   "id": "924b1926",
   "metadata": {},
   "outputs": [],
   "source": []
  }
 ],
 "metadata": {
  "kernelspec": {
   "display_name": "Python 3 (ipykernel)",
   "language": "python",
   "name": "python3"
  },
  "language_info": {
   "codemirror_mode": {
    "name": "ipython",
    "version": 3
   },
   "file_extension": ".py",
   "mimetype": "text/x-python",
   "name": "python",
   "nbconvert_exporter": "python",
   "pygments_lexer": "ipython3",
   "version": "3.10.9"
  }
 },
 "nbformat": 4,
 "nbformat_minor": 5
}
