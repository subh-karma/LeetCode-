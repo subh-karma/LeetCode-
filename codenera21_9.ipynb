{
 "cells": [
  {
   "cell_type": "code",
   "execution_count": 3,
   "id": "f0eefe96",
   "metadata": {},
   "outputs": [
    {
     "name": "stdout",
     "output_type": "stream",
     "text": [
      "\n",
      "\t\t\tEmployee Infotmation\n",
      "\t\t\t\t==================\n",
      "\t\t\t\tName=\t\tSubh\n",
      "\t\t\t\tcity=\t\tSubh\n",
      "\t\t\t\tState=\t\tSubh\n"
     ]
    }
   ],
   "source": [
    "print(\"\\n\\t\\t\\tEmployee Infotmation\")\n",
    "print(\"\\t\\t\\t\\t==================\")\n",
    "print(\"\\t\\t\\t\\tName=\\t\\tSubh\")\n",
    "print(\"\\t\\t\\t\\tcity=\\t\\tSubh\")\n",
    "print(\"\\t\\t\\t\\tState=\\t\\tSubh\")"
   ]
  },
  {
   "cell_type": "code",
   "execution_count": 10,
   "id": "d2f012d4",
   "metadata": {},
   "outputs": [
    {
     "name": "stdout",
     "output_type": "stream",
     "text": [
      "value of a = 34\n",
      "value of b = 56\n",
      "sum= 90\n",
      "sub= -22\n",
      "mul= 1904\n",
      "div= 0.6071428571428571\n",
      "<class 'int'>  <class 'int'>\n"
     ]
    }
   ],
   "source": [
    "a=34\n",
    "b=56\n",
    "print(\"value of a =\",a)\n",
    "print(\"value of b =\",b)\n",
    "print(\"sum=\",a+b)\n",
    "print(\"sub=\",a-b)\n",
    "print(\"mul=\",a*b)\n",
    "print(\"div=\",a/b)\n",
    "\n",
    "#checking var\n",
    "print(type(a),\"\",type(b))"
   ]
  },
  {
   "cell_type": "code",
   "execution_count": 15,
   "id": "cdb71201",
   "metadata": {},
   "outputs": [
    {
     "name": "stdout",
     "output_type": "stream",
     "text": [
      "The Amount is 10\n",
      "The rate is 44\n",
      "The time is 30\n",
      "The simple intrest is 132.0\n"
     ]
    }
   ],
   "source": [
    "#simple intrest \n",
    "\n",
    "\n",
    "am=int(\"10\")\n",
    "rate=int(\"44\")\n",
    "time=int(\"30\")\n",
    "print(\"The Amount is\",am)\n",
    "print(\"The rate is\",rate)\n",
    "print(\"The time is\",time)\n",
    "\n",
    "si=am*rate*time/100\n",
    "print(\"The simple intrest is\",si)"
   ]
  },
  {
   "cell_type": "code",
   "execution_count": 20,
   "id": "4d401d9d",
   "metadata": {},
   "outputs": [
    {
     "name": "stdout",
     "output_type": "stream",
     "text": [
      "area of circle is  452.15999999999997\n"
     ]
    }
   ],
   "source": [
    "#area of circle \n",
    "#pi =3.14\n",
    "import math\n",
    "r=12\n",
    "area=pi*r*r\n",
    "print(\"area of circle is \",area)"
   ]
  },
  {
   "cell_type": "code",
   "execution_count": 21,
   "id": "c6319c14",
   "metadata": {},
   "outputs": [
    {
     "name": "stdout",
     "output_type": "stream",
     "text": [
      "area of tri is  75.0\n"
     ]
    }
   ],
   "source": [
    "#area of tringel \n",
    "base=10\n",
    "ht=15\n",
    "area=1/2*base*ht\n",
    "print(\"area of tri is \",area)"
   ]
  },
  {
   "cell_type": "code",
   "execution_count": 29,
   "id": "f3c652e4",
   "metadata": {},
   "outputs": [
    {
     "name": "stdout",
     "output_type": "stream",
     "text": [
      "\n",
      "\t\t\t\tEmployee Information\n",
      "\t\t\t\t==================\n",
      "\t\t\t\tName=\t\t Rakesh rana\n",
      "\t\t\t\tBasic salary=\t 10000\n",
      "\t\t\t\tTA=\t\t 4000.0\n",
      "\t\t\t\tDA=\t\t 5000.0\n",
      "\t\t\t\tHra=\t\t 350000\n",
      "\t\t\t\tGross salary=\t 369000.0\n"
     ]
    }
   ],
   "source": [
    "#salary  \n",
    "name=\"Rakesh rana\"\n",
    "salary=10000\n",
    "ta=salary*0.4\n",
    "da=salary*0.5\n",
    "hra=salary*35\n",
    "gro_salary=salary+ta+da+hra\n",
    "print(\"\\n\\t\\t\\t\\tEmployee Information\")\n",
    "print(\"\\t\\t\\t\\t==================\")\n",
    "print(\"\\t\\t\\t\\tName=\\t\\t\",name)\n",
    "print(\"\\t\\t\\t\\tBasic salary=\\t\",salary)\n",
    "print(\"\\t\\t\\t\\tTA=\\t\\t\",ta)\n",
    "print(\"\\t\\t\\t\\tDA=\\t\\t\",da)\n",
    "print(\"\\t\\t\\t\\tHra=\\t\\t\",hra)\n",
    "print(\"\\t\\t\\t\\tGross salary=\\t\",gro_salary)\n",
    "\n",
    "\n"
   ]
  },
  {
   "cell_type": "code",
   "execution_count": null,
   "id": "ef657f40",
   "metadata": {},
   "outputs": [],
   "source": []
  }
 ],
 "metadata": {
  "kernelspec": {
   "display_name": "Python 3 (ipykernel)",
   "language": "python",
   "name": "python3"
  },
  "language_info": {
   "codemirror_mode": {
    "name": "ipython",
    "version": 3
   },
   "file_extension": ".py",
   "mimetype": "text/x-python",
   "name": "python",
   "nbconvert_exporter": "python",
   "pygments_lexer": "ipython3",
   "version": "3.10.9"
  }
 },
 "nbformat": 4,
 "nbformat_minor": 5
}
