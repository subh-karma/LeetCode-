{
 "cells": [
  {
   "cell_type": "markdown",
   "id": "917ce722",
   "metadata": {},
   "source": [
    "Write a Python program to swap commas and dots in a string.\n",
    "Sample string: \"32.054,23\"\n",
    "Expected Output: \"32,054.23\""
   ]
  },
  {
   "cell_type": "code",
   "execution_count": 33,
   "id": "f6ffafb1",
   "metadata": {},
   "outputs": [],
   "source": [
    "def swap1(n):\n",
    "    ss=str.maketrans(',.' ,'.,' )\n",
    "    return n.translate(ss)\n",
    "    "
   ]
  },
  {
   "cell_type": "code",
   "execution_count": 34,
   "id": "af43ca04",
   "metadata": {},
   "outputs": [
    {
     "name": "stdout",
     "output_type": "stream",
     "text": [
      "32,054.23\n"
     ]
    }
   ],
   "source": [
    "sample=\"32.054,23\"\n",
    "oo=swap1(sample)\n",
    "print(oo)"
   ]
  },
  {
   "cell_type": "markdown",
   "id": "8a479957",
   "metadata": {},
   "source": [
    "# "
   ]
  },
  {
   "cell_type": "markdown",
   "id": "c17d638f",
   "metadata": {},
   "source": [
    "Write a Python program to convert a given string into a list of words.\n",
    "Sample Output:\n"
   ]
  },
  {
   "cell_type": "markdown",
   "id": "a0174b8d",
   "metadata": {},
   "source": [
    "['The', 'quick', 'brown', 'fox', 'jumps', 'over', 'the', 'lazy', 'dog.']\n"
   ]
  },
  {
   "cell_type": "code",
   "execution_count": 44,
   "id": "40e2cace",
   "metadata": {},
   "outputs": [],
   "source": [
    "arr =['The', 'quick', 'brown', 'fox', 'jumps', 'over', 'the', 'lazy', 'dog.']\n",
    "def arr1(arr,sep=' '):\n",
    "    return sep.join(arr)\n",
    "    "
   ]
  },
  {
   "cell_type": "code",
   "execution_count": 45,
   "id": "a2b85276",
   "metadata": {},
   "outputs": [
    {
     "data": {
      "text/plain": [
       "'The quick brown fox jumps over the lazy dog.'"
      ]
     },
     "execution_count": 45,
     "metadata": {},
     "output_type": "execute_result"
    }
   ],
   "source": [
    "arr1(arr)"
   ]
  },
  {
   "cell_type": "markdown",
   "id": "36dc4196",
   "metadata": {},
   "source": [
    "# "
   ]
  },
  {
   "cell_type": "markdown",
   "id": "80663189",
   "metadata": {},
   "source": [
    "Write a Python program to print the index of a character in a string.\n",
    "Sample string: w3resource\n"
   ]
  },
  {
   "cell_type": "code",
   "execution_count": 46,
   "id": "fa9ec514",
   "metadata": {},
   "outputs": [],
   "source": [
    "def pp(jj):\n",
    "    for i,j in enumerate(jj):\n",
    "        print(f\"index{i}:{j}\")"
   ]
  },
  {
   "cell_type": "code",
   "execution_count": 47,
   "id": "7ea58d27",
   "metadata": {},
   "outputs": [
    {
     "name": "stdout",
     "output_type": "stream",
     "text": [
      "index0:w\n",
      "index1:3\n",
      "index2:r\n",
      "index3:e\n",
      "index4:s\n",
      "index5:o\n",
      "index6:u\n",
      "index7:r\n",
      "index8:c\n",
      "index9:e\n",
      "None\n"
     ]
    }
   ],
   "source": [
    "strr= \"w3resource\"\n",
    "h=pp(strr)\n",
    "print(h)"
   ]
  },
  {
   "cell_type": "code",
   "execution_count": 48,
   "id": "4107f33a",
   "metadata": {},
   "outputs": [],
   "source": [
    "def indexx(x):\n",
    "    for i in range(len(x)):\n",
    "        print(f\"index{i}:{x[i]}\")"
   ]
  },
  {
   "cell_type": "code",
   "execution_count": 49,
   "id": "6fc44296",
   "metadata": {},
   "outputs": [
    {
     "name": "stdout",
     "output_type": "stream",
     "text": [
      "index0:w\n",
      "index1:3\n",
      "index2:r\n",
      "index3:e\n",
      "index4:s\n",
      "index5:o\n",
      "index6:u\n",
      "index7:r\n",
      "index8:c\n",
      "index9:e\n",
      "None\n"
     ]
    }
   ],
   "source": [
    "strr= \"w3resource\"\n",
    "h=indexx(strr)\n",
    "print(h)"
   ]
  },
  {
   "cell_type": "code",
   "execution_count": null,
   "id": "cb92178d",
   "metadata": {},
   "outputs": [],
   "source": []
  },
  {
   "cell_type": "code",
   "execution_count": 35,
   "id": "99295445",
   "metadata": {},
   "outputs": [],
   "source": []
  },
  {
   "cell_type": "code",
   "execution_count": 36,
   "id": "60b96a47",
   "metadata": {},
   "outputs": [
    {
     "name": "stdout",
     "output_type": "stream",
     "text": [
      "32,054.23\n"
     ]
    }
   ],
   "source": []
  },
  {
   "cell_type": "code",
   "execution_count": null,
   "id": "e1ac8d3c",
   "metadata": {},
   "outputs": [],
   "source": []
  }
 ],
 "metadata": {
  "kernelspec": {
   "display_name": "Python 3 (ipykernel)",
   "language": "python",
   "name": "python3"
  },
  "language_info": {
   "codemirror_mode": {
    "name": "ipython",
    "version": 3
   },
   "file_extension": ".py",
   "mimetype": "text/x-python",
   "name": "python",
   "nbconvert_exporter": "python",
   "pygments_lexer": "ipython3",
   "version": "3.10.9"
  }
 },
 "nbformat": 4,
 "nbformat_minor": 5
}
