{
 "cells": [
  {
   "cell_type": "markdown",
   "id": "76bf5a73",
   "metadata": {},
   "source": [
    "Python program to print even numbers in a list\n"
   ]
  },
  {
   "cell_type": "code",
   "execution_count": 1,
   "id": "1b37aa95",
   "metadata": {},
   "outputs": [
    {
     "name": "stdout",
     "output_type": "stream",
     "text": [
      "2\n",
      "64\n",
      "14\n"
     ]
    }
   ],
   "source": [
    "list1 = [2, 7, 5, 64, 14]\n",
    "for i in list1:\n",
    "    if i%2==0:\n",
    "        print(i)"
   ]
  },
  {
   "cell_type": "markdown",
   "id": "1328b750",
   "metadata": {},
   "source": [
    "Python program to print odd numbers in a List\n"
   ]
  },
  {
   "cell_type": "code",
   "execution_count": 2,
   "id": "1aedca20",
   "metadata": {},
   "outputs": [
    {
     "name": "stdout",
     "output_type": "stream",
     "text": [
      "7\n",
      "5\n"
     ]
    }
   ],
   "source": [
    "list1 = [2, 7, 5, 64, 14]\n",
    "for i in list1:\n",
    "    if i%2!=0:\n",
    "        print(i)"
   ]
  },
  {
   "cell_type": "markdown",
   "id": "ba952da3",
   "metadata": {},
   "source": [
    "Python program to print all even numbers in a range\n"
   ]
  },
  {
   "cell_type": "code",
   "execution_count": 9,
   "id": "da4300e6",
   "metadata": {},
   "outputs": [
    {
     "name": "stdout",
     "output_type": "stream",
     "text": [
      "[4, 6, 8, 10, 12, 14]\n"
     ]
    }
   ],
   "source": [
    "start, end = 4,15\n",
    "range1=[]\n",
    "\n",
    "for i in range(start,end+1):\n",
    "    if i %2==0:\n",
    "        range1.append(i)\n",
    "print(range1)    \n",
    "    \n"
   ]
  },
  {
   "cell_type": "markdown",
   "id": "9e3a16e2",
   "metadata": {},
   "source": [
    "Python program to print all odd numbers in a range"
   ]
  },
  {
   "cell_type": "code",
   "execution_count": 10,
   "id": "546ab39d",
   "metadata": {},
   "outputs": [
    {
     "name": "stdout",
     "output_type": "stream",
     "text": [
      "[5, 7, 9, 11, 13, 15]\n"
     ]
    }
   ],
   "source": [
    "start, end = 4,15\n",
    "range1=[]\n",
    "\n",
    "for i in range(start,end+1):\n",
    "    if i %2!=0:\n",
    "        range1.append(i)\n",
    "print(range1) "
   ]
  },
  {
   "cell_type": "markdown",
   "id": "d0278d96",
   "metadata": {},
   "source": [
    "Python program to print positive numbers in a list"
   ]
  },
  {
   "cell_type": "code",
   "execution_count": 11,
   "id": "6a65f66d",
   "metadata": {},
   "outputs": [
    {
     "name": "stdout",
     "output_type": "stream",
     "text": [
      "[12, 5, 64]\n"
     ]
    }
   ],
   "source": [
    "list1 = [12, -7, 5, 64, -14]\n",
    "l1=[]\n",
    "\n",
    "for i in list1:\n",
    "    if i>0:\n",
    "        l1.append(i)\n",
    "print(l1)"
   ]
  },
  {
   "cell_type": "markdown",
   "id": "a7ec6337",
   "metadata": {},
   "source": [
    "Python program to print negative numbers in a list"
   ]
  },
  {
   "cell_type": "code",
   "execution_count": 13,
   "id": "269840b5",
   "metadata": {},
   "outputs": [
    {
     "name": "stdout",
     "output_type": "stream",
     "text": [
      "[-7, -14]\n"
     ]
    }
   ],
   "source": [
    "list1 = [12, -7, 5, 64, -14]\n",
    "l1=[]\n",
    "\n",
    "for i in list1:\n",
    "    if i<0:\n",
    "        l1.append(i)\n",
    "print(l1)"
   ]
  },
  {
   "cell_type": "markdown",
   "id": "fa86328e",
   "metadata": {},
   "source": [
    "Python program to print all negative numbers in a range"
   ]
  },
  {
   "cell_type": "code",
   "execution_count": 15,
   "id": "6650379e",
   "metadata": {},
   "outputs": [
    {
     "name": "stdout",
     "output_type": "stream",
     "text": [
      "[-4, -3, -2, -1]\n"
     ]
    }
   ],
   "source": [
    "a,b=-4,5\n",
    "l1=[]\n",
    "for i in range(a,b+1):\n",
    "    if i<0:\n",
    "        l1.append(i)\n",
    "print(l1)"
   ]
  },
  {
   "cell_type": "markdown",
   "id": "863a9238",
   "metadata": {},
   "source": [
    "Python – Remove empty List from List\n"
   ]
  },
  {
   "cell_type": "code",
   "execution_count": 17,
   "id": "f48749e0",
   "metadata": {},
   "outputs": [
    {
     "name": "stdout",
     "output_type": "stream",
     "text": [
      "[5, 6, 3, 9]\n"
     ]
    }
   ],
   "source": [
    "tt = [5, 6, [], 3, [], [], 9]\n",
    "tt1=[]\n",
    "for i in tt:\n",
    "    if i!=[]:\n",
    "        tt1.append(i)\n",
    "print(tt1)\n",
    "        "
   ]
  },
  {
   "cell_type": "code",
   "execution_count": 20,
   "id": "f61457a8",
   "metadata": {},
   "outputs": [
    {
     "name": "stdout",
     "output_type": "stream",
     "text": [
      "[5, 6, 3, 9]\n"
     ]
    }
   ],
   "source": [
    "tt = [5, 6, [], 3, [], [], 9]\n",
    "\n",
    "res=[i for i in tt if i!=[]]\n",
    "\n",
    "print(res)"
   ]
  },
  {
   "cell_type": "code",
   "execution_count": 5,
   "id": "de61a04e",
   "metadata": {},
   "outputs": [
    {
     "name": "stdout",
     "output_type": "stream",
     "text": [
      "[5, 6, 3, 9]\n"
     ]
    }
   ],
   "source": [
    "test_list = [5, 6, [], 3, [], [], 9]\n",
    "res=list(filter(None,test_list ))\n",
    "print(res)"
   ]
  },
  {
   "cell_type": "markdown",
   "id": "c6245ea5",
   "metadata": {},
   "source": [
    "occurace of character \n"
   ]
  },
  {
   "cell_type": "code",
   "execution_count": 10,
   "id": "c8c00463",
   "metadata": {},
   "outputs": [
    {
     "name": "stdout",
     "output_type": "stream",
     "text": [
      "e\n",
      "4\n"
     ]
    }
   ],
   "source": [
    "text= \"geek for geekf\"\n",
    "cc=input()\n",
    "c=0\n",
    "for i in text:\n",
    "    if i==cc:\n",
    "        c+=1\n",
    "print(c)\n",
    "    "
   ]
  },
  {
   "cell_type": "code",
   "execution_count": 17,
   "id": "164a4dbe",
   "metadata": {},
   "outputs": [
    {
     "name": "stdout",
     "output_type": "stream",
     "text": [
      "e\n",
      "4\n"
     ]
    }
   ],
   "source": [
    "text= \"geek for geekf\"\n",
    "cc=input()\n",
    "c=text.count(cc)\n",
    "print(c)\n",
    "\n",
    "        \n",
    "        \n"
   ]
  },
  {
   "cell_type": "markdown",
   "id": "fa680ad0",
   "metadata": {},
   "source": [
    "Cloning list "
   ]
  },
  {
   "cell_type": "code",
   "execution_count": 25,
   "id": "6c8a674c",
   "metadata": {},
   "outputs": [
    {
     "data": {
      "text/plain": [
       "' hey jupyter notebook and leetcode '"
      ]
     },
     "execution_count": 25,
     "metadata": {},
     "output_type": "execute_result"
    }
   ],
   "source": [
    "l1= \" hey jupyter notebook and leetcode \"\n",
    "def clo(l1):\n",
    "    l =l1[:]\n",
    "    return l\n",
    "clo(l1)"
   ]
  },
  {
   "cell_type": "code",
   "execution_count": null,
   "id": "e64a2d41",
   "metadata": {},
   "outputs": [],
   "source": []
  }
 ],
 "metadata": {
  "kernelspec": {
   "display_name": "Python 3 (ipykernel)",
   "language": "python",
   "name": "python3"
  },
  "language_info": {
   "codemirror_mode": {
    "name": "ipython",
    "version": 3
   },
   "file_extension": ".py",
   "mimetype": "text/x-python",
   "name": "python",
   "nbconvert_exporter": "python",
   "pygments_lexer": "ipython3",
   "version": "3.10.9"
  }
 },
 "nbformat": 4,
 "nbformat_minor": 5
}
