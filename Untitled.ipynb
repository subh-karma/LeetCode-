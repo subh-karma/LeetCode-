{
 "cells": [
  {
   "cell_type": "code",
   "execution_count": 1,
   "id": "d65a9627",
   "metadata": {},
   "outputs": [
    {
     "name": "stdout",
     "output_type": "stream",
     "text": [
      "[17, 15, 4]\n",
      "[10, 12, 9]\n",
      "[11, 13, 18]\n"
     ]
    },
    {
     "ename": "NameError",
     "evalue": "name 'Output' is not defined",
     "output_type": "error",
     "traceback": [
      "\u001b[1;31m---------------------------------------------------------------------------\u001b[0m",
      "\u001b[1;31mNameError\u001b[0m                                 Traceback (most recent call last)",
      "Cell \u001b[1;32mIn[1], line 33\u001b[0m\n\u001b[0;32m     29\u001b[0m \u001b[38;5;28;01mfor\u001b[39;00m q \u001b[38;5;129;01min\u001b[39;00m result:\n\u001b[0;32m     31\u001b[0m    \u001b[38;5;28mprint\u001b[39m(q)\n\u001b[1;32m---> 33\u001b[0m \u001b[43mOutput\u001b[49m\n\u001b[0;32m     35\u001b[0m [\u001b[38;5;241m17\u001b[39m, \u001b[38;5;241m15\u001b[39m, \u001b[38;5;241m4\u001b[39m]\n\u001b[0;32m     37\u001b[0m [\u001b[38;5;241m10\u001b[39m, \u001b[38;5;241m12\u001b[39m, \u001b[38;5;241m9\u001b[39m]\n",
      "\u001b[1;31mNameError\u001b[0m: name 'Output' is not defined"
     ]
    }
   ],
   "source": [
    "A = [[12,7,3],\n",
    "\n",
    "    [4 ,5,6],\n",
    "\n",
    "    [7 ,8,9]]\n",
    "\n",
    "B = [[5,8,1],\n",
    "\n",
    "    [6,7,3],\n",
    "\n",
    "    [4,5,9]]\n",
    "\n",
    "result = [[0,0,0],\n",
    "\n",
    "         [0,0,0],\n",
    "\n",
    "         [0,0,0]]\n",
    "\n",
    "# iterate through rows\n",
    "\n",
    "for x in range(len(A)):\n",
    "\n",
    "   # iterate through columns\n",
    "\n",
    "   for y in range(len(A[0])):\n",
    "\n",
    "       result[x][y] = A[x][y] + B[x][y]\n",
    "\n",
    "for q in result:\n",
    "\n",
    "   print(q)\n",
    "\n",
    "Output\n",
    "\n",
    "[17, 15, 4]\n",
    "\n",
    "[10, 12, 9]\n",
    "\n",
    "[11, 13, 18]"
   ]
  },
  {
   "cell_type": "code",
   "execution_count": 6,
   "id": "02180bf1",
   "metadata": {},
   "outputs": [
    {
     "name": "stdout",
     "output_type": "stream",
     "text": [
      "          \n",
      "    *     \n",
      "    **    \n",
      "   ***    \n",
      "   ****   \n"
     ]
    }
   ],
   "source": [
    "for i in range (5):\n",
    "    x=\"*\"\n",
    "    x=x*i\n",
    "    print(f'{x:^10}')"
   ]
  },
  {
   "cell_type": "code",
   "execution_count": null,
   "id": "21cc770b",
   "metadata": {},
   "outputs": [],
   "source": []
  }
 ],
 "metadata": {
  "kernelspec": {
   "display_name": "Python 3 (ipykernel)",
   "language": "python",
   "name": "python3"
  },
  "language_info": {
   "codemirror_mode": {
    "name": "ipython",
    "version": 3
   },
   "file_extension": ".py",
   "mimetype": "text/x-python",
   "name": "python",
   "nbconvert_exporter": "python",
   "pygments_lexer": "ipython3",
   "version": "3.10.9"
  }
 },
 "nbformat": 4,
 "nbformat_minor": 5
}
