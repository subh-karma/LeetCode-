{
 "cells": [
  {
   "cell_type": "code",
   "execution_count": 5,
   "id": "62b9ebee",
   "metadata": {},
   "outputs": [
    {
     "name": "stdout",
     "output_type": "stream",
     "text": [
      "[1 2 3 4 5]\n",
      "<class 'numpy.ndarray'>\n"
     ]
    }
   ],
   "source": [
    "import numpy as np\n",
    "arr = np.array([1, 2, 3, 4, 5]) \n",
    "print(arr) \n",
    "print(type(arr)) "
   ]
  },
  {
   "cell_type": "markdown",
   "id": "2199dda9",
   "metadata": {},
   "source": [
    "# 2D ARRY "
   ]
  },
  {
   "cell_type": "code",
   "execution_count": 8,
   "id": "c8ef4b2a",
   "metadata": {},
   "outputs": [],
   "source": [
    "from array import *"
   ]
  },
  {
   "cell_type": "code",
   "execution_count": 11,
   "id": "4e0431df",
   "metadata": {},
   "outputs": [
    {
     "data": {
      "text/plain": [
       "[[1, 2, 3], [4, 5, 6], [7, 8, 9]]"
      ]
     },
     "execution_count": 11,
     "metadata": {},
     "output_type": "execute_result"
    }
   ],
   "source": [
    "arr=[\n",
    "    \n",
    "     [1,2,3],\n",
    "     [4,5,6],\n",
    "     [7,8,9]\n",
    "\n",
    "]\n",
    "arr"
   ]
  },
  {
   "cell_type": "code",
   "execution_count": 13,
   "id": "69e84b81",
   "metadata": {},
   "outputs": [
    {
     "name": "stdout",
     "output_type": "stream",
     "text": [
      "orignal arry\n",
      "1 2 3 \n",
      "4 5 6 \n",
      "7 8 9 \n"
     ]
    }
   ],
   "source": [
    "print (\"orignal arry\")\n",
    "for i in arr:\n",
    "    for j in i:\n",
    "        print(j, end=\" \")\n",
    "    print()"
   ]
  },
  {
   "cell_type": "code",
   "execution_count": 17,
   "id": "165d026d",
   "metadata": {},
   "outputs": [
    {
     "name": "stdout",
     "output_type": "stream",
     "text": [
      "orignal arry\n"
     ]
    }
   ],
   "source": [
    "arr1=()\n",
    "i=1\n",
    "print (\"orignal arry\")\n",
    "for i in arr1:\n",
    "    for j in i:\n",
    "        print(j, end=\" \")\n",
    "    print()"
   ]
  },
  {
   "cell_type": "code",
   "execution_count": 18,
   "id": "60f6ee49",
   "metadata": {},
   "outputs": [
    {
     "name": "stdout",
     "output_type": "stream",
     "text": [
      "[[0. 1.]\n",
      " [2. 3.]\n",
      " [4. 5.]]\n"
     ]
    }
   ],
   "source": [
    "import numpy as np\n",
    "\n",
    "# Define the dimensions of the array\n",
    "rows = 3\n",
    "cols = 2\n",
    "\n",
    "# Initialize an empty array with zeros\n",
    "my_array = np.zeros((rows, cols))\n",
    "\n",
    "# Populate the array using a loop\n",
    "for i in range(rows):\n",
    "    for j in range(cols):\n",
    "        # You can set the values as you wish in the loop\n",
    "        my_array[i][j] = i * cols + j\n",
    "\n",
    "# Print the resulting array\n",
    "print(my_array)\n"
   ]
  },
  {
   "cell_type": "code",
   "execution_count": 19,
   "id": "d07ab717",
   "metadata": {},
   "outputs": [
    {
     "data": {
      "text/plain": [
       "[[1, 2], [4, 5], [7, 8]]"
      ]
     },
     "execution_count": 19,
     "metadata": {},
     "output_type": "execute_result"
    }
   ],
   "source": [
    "arr=[\n",
    "    \n",
    "     [1,2],\n",
    "     [4,5],\n",
    "     [7,8]\n",
    "\n",
    "]\n",
    "arr"
   ]
  },
  {
   "cell_type": "code",
   "execution_count": null,
   "id": "77dabfe4",
   "metadata": {},
   "outputs": [],
   "source": []
  }
 ],
 "metadata": {
  "kernelspec": {
   "display_name": "Python 3 (ipykernel)",
   "language": "python",
   "name": "python3"
  },
  "language_info": {
   "codemirror_mode": {
    "name": "ipython",
    "version": 3
   },
   "file_extension": ".py",
   "mimetype": "text/x-python",
   "name": "python",
   "nbconvert_exporter": "python",
   "pygments_lexer": "ipython3",
   "version": "3.10.9"
  }
 },
 "nbformat": 4,
 "nbformat_minor": 5
}
