{
 "cells": [
  {
   "cell_type": "code",
   "execution_count": 7,
   "id": "35a8f0e4",
   "metadata": {},
   "outputs": [],
   "source": [
    "import pandas as pd\n",
    "import numpy as np\n",
    "import matplotlib.pyplot as plt\n"
   ]
  },
  {
   "cell_type": "code",
   "execution_count": null,
   "id": "3eae328e",
   "metadata": {},
   "outputs": [],
   "source": [
    "# Load the dataset\n",
    "df = pd.read_csv('your_dataset.csv')\n",
    "\n",
    "# Display the first few rows of the dataset\n",
    "print(\"First 5 rows of the dataset:\")\n",
    "print(df.head())\n",
    "\n",
    "# Display basic information about the dataset\n",
    "print(\"\\nBasic Information:\")\n",
    "print(df.info())\n",
    "\n",
    "# Display summary statistics of the dataset\n",
    "print(\"\\nSummary Statistics:\")\n",
    "print(df.describe())\n",
    "\n",
    "# Check for missing values\n",
    "print(\"\\nMissing Values:\")\n",
    "print(df.isnull().sum())\n",
    "\n",
    "# Display the number of unique values in each column\n",
    "print(\"\\nUnique Values:\")\n",
    "print(df.nunique())\n",
    "\n",
    "# Plot histograms for numerical columns\n",
    "print(\"\\nHistograms for Numerical Columns:\")\n",
    "df.hist(bins=30, figsize=(20, 15))\n",
    "plt.show()\n",
    "\n",
    "# Plot count plots for categorical columns\n",
    "print(\"\\nCount Plots for Categorical Columns:\")\n",
    "categorical_columns = df.select_dtypes(include=['object']).columns\n",
    "for column in categorical_columns:\n",
    "    sns.countplot(y=column, data=df)\n",
    "    plt.show()\n",
    "\n",
    "# Plot correlation matrix\n",
    "print(\"\\nCorrelation Matrix:\")\n",
    "correlation_matrix = df.corr()\n",
    "plt.figure(figsize=(15, 10))\n",
    "sns.heatmap(correlation_matrix, annot=True, cmap='coolwarm')\n",
    "plt.show()\n",
    "\n",
    "# Pairplot for numerical columns\n",
    "print(\"\\nPairplot for Numerical Columns:\")\n",
    "sns.pairplot(df)\n",
    "plt.show()\n",
    "\n",
    "# Box plots for numerical columns to detect outliers\n",
    "print(\"\\nBox Plots for Numerical Columns:\")\n",
    "numerical_columns = df.select_dtypes(include=[np.number]).columns\n",
    "for column in numerical_columns:\n",
    "    sns.boxplot(x=df[column])\n",
    "    plt.show()"
   ]
  }
 ],
 "metadata": {
  "kernelspec": {
   "display_name": "Python 3 (ipykernel)",
   "language": "python",
   "name": "python3"
  },
  "language_info": {
   "codemirror_mode": {
    "name": "ipython",
    "version": 3
   },
   "file_extension": ".py",
   "mimetype": "text/x-python",
   "name": "python",
   "nbconvert_exporter": "python",
   "pygments_lexer": "ipython3",
   "version": "3.11.4"
  }
 },
 "nbformat": 4,
 "nbformat_minor": 5
}
