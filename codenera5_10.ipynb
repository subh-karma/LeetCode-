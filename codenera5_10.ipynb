{
 "cells": [
  {
   "cell_type": "markdown",
   "id": "05d4e5b3",
   "metadata": {},
   "source": [
    "# FUNCTION"
   ]
  },
  {
   "cell_type": "code",
   "execution_count": 4,
   "id": "2feb2b3e",
   "metadata": {},
   "outputs": [
    {
     "ename": "IndentationError",
     "evalue": "unexpected indent (1587756784.py, line 8)",
     "output_type": "error",
     "traceback": [
      "\u001b[1;36m  Cell \u001b[1;32mIn[4], line 8\u001b[1;36m\u001b[0m\n\u001b[1;33m    pass\u001b[0m\n\u001b[1;37m    ^\u001b[0m\n\u001b[1;31mIndentationError\u001b[0m\u001b[1;31m:\u001b[0m unexpected indent\n"
     ]
    }
   ],
   "source": [
    "#multi liner Doc String\n",
    "def multiLiner():\n",
    "    \"\"\"\n",
    "        First Statement\n",
    "        \n",
    "        Argument Statement\n",
    "     \"\"\"   \n",
    "     pass      \n",
    "    \n",
    "     \n",
    "        "
   ]
  },
  {
   "cell_type": "code",
   "execution_count": 6,
   "id": "58b5c25f",
   "metadata": {},
   "outputs": [],
   "source": [
    "#multi liner Doc String\n",
    "def multiLiner():\n",
    "    \"\"\"\n",
    "        First Statement\n",
    "        \n",
    "        Argument Statement\n",
    "        \n",
    "        Return Value \n",
    "    \n",
    "    \n",
    "    \n",
    "    \"\"\"\n",
    "    pass"
   ]
  },
  {
   "cell_type": "code",
   "execution_count": 7,
   "id": "d0f2fc50",
   "metadata": {},
   "outputs": [
    {
     "ename": "AttributeError",
     "evalue": "'function' object has no attribute '_doc_'",
     "output_type": "error",
     "traceback": [
      "\u001b[1;31m---------------------------------------------------------------------------\u001b[0m",
      "\u001b[1;31mAttributeError\u001b[0m                            Traceback (most recent call last)",
      "Cell \u001b[1;32mIn[7], line 1\u001b[0m\n\u001b[1;32m----> 1\u001b[0m \u001b[38;5;28mprint\u001b[39m(\u001b[43mmultiLiner\u001b[49m\u001b[38;5;241;43m.\u001b[39;49m\u001b[43m_doc_\u001b[49m)\n",
      "\u001b[1;31mAttributeError\u001b[0m: 'function' object has no attribute '_doc_'"
     ]
    }
   ],
   "source": [
    "print(multiLiner._doc_)"
   ]
  },
  {
   "cell_type": "code",
   "execution_count": 8,
   "id": "b43fe610",
   "metadata": {},
   "outputs": [
    {
     "name": "stdout",
     "output_type": "stream",
     "text": [
      "Help on function multiLiner in module __main__:\n",
      "\n",
      "multiLiner()\n",
      "    First Statement\n",
      "    \n",
      "    Argument Statement\n",
      "    \n",
      "    Return Value\n",
      "\n",
      "None\n"
     ]
    }
   ],
   "source": [
    "print(help(multiLiner))"
   ]
  },
  {
   "cell_type": "code",
   "execution_count": 10,
   "id": "c16baec9",
   "metadata": {},
   "outputs": [
    {
     "name": "stdout",
     "output_type": "stream",
     "text": [
      "\n",
      "        First Statement\n",
      "        \n",
      "        Argument Statement\n",
      "        \n",
      "        Return Value \n",
      "    \n",
      "    \n",
      "    \n",
      "    \n"
     ]
    }
   ],
   "source": [
    "print(multiLiner.__doc__)"
   ]
  },
  {
   "cell_type": "code",
   "execution_count": 18,
   "id": "1e6201bf",
   "metadata": {},
   "outputs": [],
   "source": [
    "def cal(a,b):\n",
    "    add =a+b\n",
    "    sub=a-b\n",
    "    mul=a*b\n",
    "    div=a/b\n",
    "    return add,sub,mul,div"
   ]
  },
  {
   "cell_type": "code",
   "execution_count": 20,
   "id": "6f9b4666",
   "metadata": {},
   "outputs": [
    {
     "name": "stdout",
     "output_type": "stream",
     "text": [
      "sum = 121\n",
      "sub = 77\n",
      "mul = 2178\n",
      "div = 4.5\n"
     ]
    }
   ],
   "source": [
    "a,b,c,d=cal(99,22)\n",
    "print(\"sum =\",a)\n",
    "print(\"sub =\",b)\n",
    "print(\"mul =\",c)\n",
    "print(\"div =\",round(d,2))"
   ]
  },
  {
   "cell_type": "markdown",
   "id": "669070af",
   "metadata": {},
   "source": [
    "# LOCAL VARIABLE"
   ]
  },
  {
   "cell_type": "code",
   "execution_count": 33,
   "id": "ad89db49",
   "metadata": {},
   "outputs": [],
   "source": [
    "def acs():\n",
    "    loc_var=1\n",
    "    print(\"local variable\",loc_var)\n",
    "def acs2():\n",
    "    print(\"local variable\",loc_var)    "
   ]
  },
  {
   "cell_type": "code",
   "execution_count": 34,
   "id": "8fb182f8",
   "metadata": {},
   "outputs": [
    {
     "name": "stdout",
     "output_type": "stream",
     "text": [
      "local variable 1\n",
      "local variable 1\n"
     ]
    }
   ],
   "source": [
    "acs()\n",
    "acs2()"
   ]
  },
  {
   "cell_type": "markdown",
   "id": "3be9f87c",
   "metadata": {},
   "source": [
    "# GLOBAL VARIABLE"
   ]
  },
  {
   "cell_type": "code",
   "execution_count": 35,
   "id": "0dd84ca0",
   "metadata": {},
   "outputs": [],
   "source": [
    "loc_var=1\n",
    "def acs():\n",
    "    print(\"local variable\",loc_var)\n",
    "def acs2():\n",
    "    print(\"local variable\",loc_var) "
   ]
  },
  {
   "cell_type": "code",
   "execution_count": 36,
   "id": "abfcc8e8",
   "metadata": {},
   "outputs": [
    {
     "name": "stdout",
     "output_type": "stream",
     "text": [
      "local variable 1\n",
      "local variable 1\n"
     ]
    }
   ],
   "source": [
    "acs()\n",
    "acs2()"
   ]
  },
  {
   "cell_type": "markdown",
   "id": "b9d4b332",
   "metadata": {},
   "source": [
    "# GLOBAL KEYWORD"
   ]
  },
  {
   "cell_type": "code",
   "execution_count": 56,
   "id": "7bc09c46",
   "metadata": {},
   "outputs": [],
   "source": [
    "global locvar\n",
    "locvar=101\n",
    "global lu\n",
    "lu=4\n",
    "def acs3():\n",
    "    \n",
    "    print(\"local variable\",locvar+lu)\n",
    "def acs4():\n",
    "    print(\"local variable\",locvar*lu) \n",
    "def acs5():\n",
    "    print(\"local variable\",locvar/lu) "
   ]
  },
  {
   "cell_type": "code",
   "execution_count": 57,
   "id": "77df5220",
   "metadata": {},
   "outputs": [
    {
     "name": "stdout",
     "output_type": "stream",
     "text": [
      "local variable 105\n",
      "local variable 404\n",
      "local variable 25.25\n"
     ]
    }
   ],
   "source": [
    "acs3()\n",
    "acs4()\n",
    "acs5()"
   ]
  },
  {
   "cell_type": "code",
   "execution_count": 61,
   "id": "9360a01f",
   "metadata": {},
   "outputs": [
    {
     "name": "stdout",
     "output_type": "stream",
     "text": [
      "karma   22   8208525115\n",
      "xyz   21   9393\n"
     ]
    }
   ],
   "source": [
    "def dis(name,age,no):\n",
    "    print(name,\" \",age,\" \",no)\n",
    "dis(\"karma\",22,8208525115)\n",
    "dis(\"xyz\",21,9393)"
   ]
  },
  {
   "cell_type": "code",
   "execution_count": 66,
   "id": "6c8ccfd6",
   "metadata": {},
   "outputs": [
    {
     "name": "stdout",
     "output_type": "stream",
     "text": [
      "44\n",
      "44\n",
      "44\n"
     ]
    }
   ],
   "source": [
    "def ad(A,B):\n",
    "    print(a-b)\n",
    "ad(4,5)\n",
    "ad(6,7)\n",
    "ad(8,9)\n",
    "\n"
   ]
  },
  {
   "cell_type": "markdown",
   "id": "42cdb662",
   "metadata": {},
   "source": [
    "# keyword argument"
   ]
  },
  {
   "cell_type": "code",
   "execution_count": 80,
   "id": "8b77b764",
   "metadata": {},
   "outputs": [],
   "source": [
    "def mes(fname,lname):\n",
    "    print(\"Greeting\",fname,lname,\".How are you doing?\")"
   ]
  },
  {
   "cell_type": "code",
   "execution_count": 84,
   "id": "12476fb2",
   "metadata": {},
   "outputs": [
    {
     "name": "stdout",
     "output_type": "stream",
     "text": [
      "Greeting subh karma .How are you doing?\n"
     ]
    }
   ],
   "source": [
    "#fname=input(\"enter the name: \")\n",
    "#lname=input(\"enter the last name:\")\n",
    "#mes(fame,lname)\n",
    "mes(\"subh\",\"karma\")"
   ]
  },
  {
   "cell_type": "code",
   "execution_count": null,
   "id": "f0d6b1ab",
   "metadata": {},
   "outputs": [],
   "source": []
  }
 ],
 "metadata": {
  "kernelspec": {
   "display_name": "Python 3 (ipykernel)",
   "language": "python",
   "name": "python3"
  },
  "language_info": {
   "codemirror_mode": {
    "name": "ipython",
    "version": 3
   },
   "file_extension": ".py",
   "mimetype": "text/x-python",
   "name": "python",
   "nbconvert_exporter": "python",
   "pygments_lexer": "ipython3",
   "version": "3.10.9"
  }
 },
 "nbformat": 4,
 "nbformat_minor": 5
}
