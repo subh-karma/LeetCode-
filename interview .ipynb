{
 "cells": [
  {
   "cell_type": "markdown",
   "id": "06502db1",
   "metadata": {},
   "source": [
    "4. Sort an array of 0s, 1s and 2s \n",
    "Input: {0, 1, 2, 0, 1, 2}\n"
   ]
  },
  {
   "cell_type": "code",
   "execution_count": 7,
   "id": "0797a70b",
   "metadata": {},
   "outputs": [],
   "source": [
    "ho= {0, 1, 2, 0, 1, 2}\n",
    "so=sorted(list(ho))"
   ]
  },
  {
   "cell_type": "code",
   "execution_count": 8,
   "id": "43b1ada9",
   "metadata": {},
   "outputs": [
    {
     "name": "stdout",
     "output_type": "stream",
     "text": [
      "[0, 1, 2]\n"
     ]
    }
   ],
   "source": [
    "print(so)"
   ]
  },
  {
   "cell_type": "code",
   "execution_count": 9,
   "id": "def5e6b5",
   "metadata": {},
   "outputs": [],
   "source": [
    "lu=[ -12, 11, -13, -5, 6, -7, 5, -3, -6]\n",
    "bu=sorted(lu)"
   ]
  },
  {
   "cell_type": "code",
   "execution_count": 10,
   "id": "44c8325a",
   "metadata": {},
   "outputs": [
    {
     "name": "stdout",
     "output_type": "stream",
     "text": [
      "[-13, -12, -7, -6, -5, -3, 5, 6, 11]\n"
     ]
    }
   ],
   "source": [
    "print(bu)"
   ]
  },
  {
   "cell_type": "markdown",
   "id": "70991966",
   "metadata": {},
   "source": []
  },
  {
   "cell_type": "markdown",
   "id": "6997ff7f",
   "metadata": {},
   "source": [
    "# 8. Find duplicates in an array\n",
    "Input: n=7 , array[]={1, 2, 3, 6, 3, 6, 1}\n",
    "Output: 1, 3, 6\n",
    "\n"
   ]
  },
  {
   "cell_type": "code",
   "execution_count": 13,
   "id": "c26116b5",
   "metadata": {},
   "outputs": [
    {
     "name": "stdout",
     "output_type": "stream",
     "text": [
      "[2, 3, 6, 3, 6]\n"
     ]
    }
   ],
   "source": [
    "ba=[1, 2, 3, 6, 3, 6, 1]\n",
    "bo=[]\n",
    "for i in ba:\n",
    "    if i>1:\n",
    "        bo.append(i)\n",
    "print(bo)"
   ]
  },
  {
   "cell_type": "code",
   "execution_count": 20,
   "id": "2da0dd40",
   "metadata": {},
   "outputs": [
    {
     "name": "stdout",
     "output_type": "stream",
     "text": [
      "[1, 3, 6]\n"
     ]
    }
   ],
   "source": [
    "def find_duplicates(arr):\n",
    "    element_count = {}\n",
    "    duplicates = []\n",
    "    \n",
    "    for num in arr:\n",
    "        if num in element_count:\n",
    "            element_count[num] += 1\n",
    "        else:\n",
    "            element_count[num] = 1\n",
    "    \n",
    "    for num, count in element_count.items():\n",
    "        if count > 1:\n",
    "            duplicates.append(num)\n",
    "    \n",
    "    return duplicates\n",
    "\n",
    "# Sample input\n",
    "input_array = [1, 2, 3, 6, 3, 6, 1]\n",
    "\n",
    "# Find duplicates\n",
    "duplicates = find_duplicates(input_array)\n",
    "\n",
    "# Print the duplicates\n",
    "print(duplicates)\n"
   ]
  },
  {
   "cell_type": "code",
   "execution_count": 17,
   "id": "1dc12d7a",
   "metadata": {},
   "outputs": [
    {
     "name": "stdout",
     "output_type": "stream",
     "text": [
      "[1, 3, 6]\n"
     ]
    }
   ],
   "source": [
    "from collections import Counter\n",
    "\n",
    "def find_duplicates(arr):\n",
    "    element_count = Counter(arr)\n",
    "    duplicates = [item for item, count in element_count.items() if count > 1]\n",
    "    return duplicates\n",
    "\n",
    "# Sample input\n",
    "input_array = [1, 2, 3, 6, 3, 6, 1]\n",
    "\n",
    "# Find duplicates\n",
    "duplicates = find_duplicates(input_array)\n",
    "\n",
    "# Print the duplicates\n",
    "print(duplicates)\n"
   ]
  },
  {
   "cell_type": "code",
   "execution_count": 22,
   "id": "4fb90275",
   "metadata": {},
   "outputs": [],
   "source": [
    "def fact(n):\n",
    "    if n==0 or n==1:\n",
    "        return 1\n",
    "    else:\n",
    "        return n*fact(n-1)"
   ]
  },
  {
   "cell_type": "code",
   "execution_count": 23,
   "id": "d6b190da",
   "metadata": {},
   "outputs": [
    {
     "data": {
      "text/plain": [
       "93326215443944152681699238856266700490715968264381621468592963895217599993229915608941463976156518286253697920827223758251185210916864000000000000000000000000"
      ]
     },
     "execution_count": 23,
     "metadata": {},
     "output_type": "execute_result"
    }
   ],
   "source": [
    "fact(100)"
   ]
  },
  {
   "cell_type": "markdown",
   "id": "ed35ce8b",
   "metadata": {},
   "source": [
    "1. Program to find the minimum (or maximum) element of an array\n",
    "|"
   ]
  },
  {
   "cell_type": "code",
   "execution_count": 26,
   "id": "fefa587a",
   "metadata": {},
   "outputs": [],
   "source": [
    "lst=[1,2,3,4,5,6,7]\n",
    "minn=min(lst)\n",
    "maxx=max(lst)"
   ]
  },
  {
   "cell_type": "code",
   "execution_count": 25,
   "id": "f7477c47",
   "metadata": {},
   "outputs": [
    {
     "name": "stdout",
     "output_type": "stream",
     "text": [
      "7\n"
     ]
    }
   ],
   "source": [
    "print(maxx)"
   ]
  },
  {
   "cell_type": "code",
   "execution_count": 27,
   "id": "8b105615",
   "metadata": {},
   "outputs": [
    {
     "name": "stdout",
     "output_type": "stream",
     "text": [
      "1\n"
     ]
    }
   ],
   "source": [
    "print(minn)"
   ]
  },
  {
   "cell_type": "code",
   "execution_count": 28,
   "id": "8c97c0e8",
   "metadata": {},
   "outputs": [],
   "source": [
    "lst=[1,2,3,4,5,6,7]\n",
    "rev=lst[::-1]"
   ]
  },
  {
   "cell_type": "code",
   "execution_count": 29,
   "id": "55954197",
   "metadata": {},
   "outputs": [
    {
     "data": {
      "text/plain": [
       "[7, 6, 5, 4, 3, 2, 1]"
      ]
     },
     "execution_count": 29,
     "metadata": {},
     "output_type": "execute_result"
    }
   ],
   "source": [
    "rev"
   ]
  },
  {
   "cell_type": "markdown",
   "id": "91ba8259",
   "metadata": {},
   "source": [
    "# "
   ]
  },
  {
   "cell_type": "markdown",
   "id": "03e05eff",
   "metadata": {},
   "source": [
    "# "
   ]
  },
  {
   "cell_type": "code",
   "execution_count": 41,
   "id": "1d7d7458",
   "metadata": {},
   "outputs": [],
   "source": [
    "def ss(lst,k):\n",
    "    lst.sort()\n",
    "    return lst[k-1]\n"
   ]
  },
  {
   "cell_type": "code",
   "execution_count": 43,
   "id": "002b40a4",
   "metadata": {},
   "outputs": [
    {
     "data": {
      "text/plain": [
       "7"
      ]
     },
     "execution_count": 43,
     "metadata": {},
     "output_type": "execute_result"
    }
   ],
   "source": [
    "lst=[7, 10, 4, 3, 20, 15]\n",
    "k=3\n",
    "ss(lst,k)"
   ]
  },
  {
   "cell_type": "code",
   "execution_count": null,
   "id": "c1696f9c",
   "metadata": {},
   "outputs": [],
   "source": []
  }
 ],
 "metadata": {
  "kernelspec": {
   "display_name": "Python 3 (ipykernel)",
   "language": "python",
   "name": "python3"
  },
  "language_info": {
   "codemirror_mode": {
    "name": "ipython",
    "version": 3
   },
   "file_extension": ".py",
   "mimetype": "text/x-python",
   "name": "python",
   "nbconvert_exporter": "python",
   "pygments_lexer": "ipython3",
   "version": "3.11.4"
  }
 },
 "nbformat": 4,
 "nbformat_minor": 5
}
